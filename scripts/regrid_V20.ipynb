{
 "cells": [
  {
   "cell_type": "code",
   "execution_count": 1,
   "metadata": {},
   "outputs": [
    {
     "data": {
      "text/plain": [
       "True"
      ]
     },
     "execution_count": 1,
     "metadata": {},
     "output_type": "execute_result"
    }
   ],
   "source": [
    "# Start ferret\n",
    "import pyferret\n",
    "import numpy as np\n",
    "pyferret.start(quiet=True)\n"
   ]
  },
  {
   "cell_type": "code",
   "execution_count": 2,
   "metadata": {},
   "outputs": [
    {
     "data": {
      "text/plain": [
       "dict_keys(['title', 'data', 'missing_value', 'data_unit', 'axis_types', 'axis_names', 'axis_units', 'axis_coords'])"
      ]
     },
     "execution_count": 2,
     "metadata": {},
     "output_type": "execute_result"
    }
   ],
   "source": [
    "# Load the data set and store as a Python variable\n",
    "# Python dictionaries are a type of variable that\n",
    "# stores the data along with its metadata.\n",
    "(error_value, error_message) = pyferret.run('use /home/jovyan/data/1_mesh_mask_xyd.nc')\n",
    "glamt_dict = pyferret.getdata('glamt',False)\n",
    "gphit_dict = pyferret.getdata('gphit',False)\n",
    "\n",
    "# The \"keys\" are the names of the entries in the\n",
    "# dictionary - its pieces.\n",
    "glamt_dict.keys()"
   ]
  },
  {
   "cell_type": "code",
   "execution_count": 3,
   "metadata": {},
   "outputs": [
    {
     "data": {
      "text/plain": [
       "(1784, 1719)"
      ]
     },
     "execution_count": 3,
     "metadata": {},
     "output_type": "execute_result"
    }
   ],
   "source": [
    "# Get data directly from the dictionary object (which\n",
    "# includes metadata) and squeeze out unnecessary\n",
    "# index places.\n",
    "glamt = np.squeeze(glamt_dict['data'])\n",
    "gphit = np.squeeze(gphit_dict['data'])\n",
    "\n",
    "# Get the sizes of the arrays.\n",
    "imt,jmt = np.shape(glamt)\n",
    "\n",
    "imt,jmt"
   ]
  },
  {
   "cell_type": "code",
   "execution_count": 4,
   "metadata": {},
   "outputs": [],
   "source": [
    "# Need to rotate the array to plot North upward\n",
    "# Experiments with this suggest that it doesn't\n",
    "# as I initially expected.\n",
    "# Need to do more experiments.\n",
    "#glamt = np.reshape(glamt,(jmt,-1), order='C')\n",
    "#gphit = np.reshape(gphit,(jmt,-1), order='C')\n"
   ]
  },
  {
   "cell_type": "code",
   "execution_count": 5,
   "metadata": {},
   "outputs": [
    {
     "data": {
      "image/png": "[encoded data removed]",
      "text/plain": [
       "<Figure size 432x288 with 2 Axes>"
      ]
     },
     "metadata": {
      "needs_background": "light"
     },
     "output_type": "display_data"
    }
   ],
   "source": [
    "# Make a plot to verify that data have been loaded\n",
    "# Using pcolormesh is good because it explicitly\n",
    "# requires the pixel locations rather than implicit\n",
    "# pixel locations with an image plotting tool.\n",
    "import matplotlib.pyplot as plt\n",
    "cmap = plt.get_cmap('PiYG')\n",
    "fig, (ax0,ax1) = plt.subplots(nrows=2)\n",
    "im = ax0.pcolormesh(glamt[1:imt-2,1:jmt-2],gphit[1:imt-2,1:jmt-2],glamt[1:imt-2,1:jmt-2], cmap=cmap)\n",
    "im = ax1.pcolormesh(glamt[1:imt-2,1:jmt-2],gphit[1:imt-2,1:jmt-2],gphit[1:imt-2,1:jmt-2], cmap=cmap)\n",
    "plt.show()\n"
   ]
  },
  {
   "cell_type": "markdown",
   "metadata": {},
   "source": [
    "# To do:\n",
    "\n",
    "1. load grids\n",
    "2. load grid spacings\n",
    "3. load SSH\n",
    "4. figure out downscaling\n",
    "5. element-by-element mult spacings by area\n",
    "6. find average and store\n"
   ]
  },
  {
   "cell_type": "code",
   "execution_count": null,
   "metadata": {},
   "outputs": [],
   "source": []
  },
  {
   "cell_type": "code",
   "execution_count": null,
   "metadata": {},
   "outputs": [],
   "source": []
  }
 ],
 "metadata": {
  "kernelspec": {
   "display_name": "pyferret",
   "language": "python",
   "name": "pyferret"
  },
  "language_info": {
   "codemirror_mode": {
    "name": "ipython",
    "version": 3
   },
   "file_extension": ".py",
   "mimetype": "text/x-python",
   "name": "python",
   "nbconvert_exporter": "python",
   "pygments_lexer": "ipython3",
   "version": "3.8.2"
  }
 },
 "nbformat": 4,
 "nbformat_minor": 4
}
